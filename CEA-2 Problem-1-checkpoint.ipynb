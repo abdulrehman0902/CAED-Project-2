{
 "cells": [
  {
   "cell_type": "code",
   "execution_count": 1,
   "id": "08d9f0e3",
   "metadata": {},
   "outputs": [],
   "source": [
    "import numpy as np\n",
    "import pandas as pd\n",
    "import matplotlib.pyplot as plt"
   ]
  },
  {
   "cell_type": "code",
   "execution_count": 2,
   "id": "121d3495",
   "metadata": {},
   "outputs": [
    {
     "name": "stdout",
     "output_type": "stream",
     "text": [
      "          0         1\n",
      "0    6.1101  17.59200\n",
      "1    5.5277   9.13020\n",
      "2    8.5186  13.66200\n",
      "3    7.0032  11.85400\n",
      "4    5.8598   6.82330\n",
      "..      ...       ...\n",
      "92   5.8707   7.20290\n",
      "93   5.3054   1.98690\n",
      "94   8.2934   0.14454\n",
      "95  13.3940   9.05510\n",
      "96   5.4369   0.61705\n",
      "\n",
      "[97 rows x 2 columns]\n"
     ]
    }
   ],
   "source": [
    "df = pd.read_csv(\"ex1data1.txt\",header = None)\n",
    "print(df)"
   ]
  },
  {
   "cell_type": "code",
   "execution_count": 3,
   "id": "5d59953a",
   "metadata": {},
   "outputs": [
    {
     "name": "stdout",
     "output_type": "stream",
     "text": [
      "(97, 1)\n",
      "(97, 1)\n"
     ]
    }
   ],
   "source": [
    "df = np.array(df)\n",
    "x = df[::,0:1]\n",
    "y = df[::,1:2]\n",
    "print(x.shape)\n",
    "print(y.shape)"
   ]
  },
  {
   "cell_type": "code",
   "execution_count": 4,
   "id": "cb73cfcb",
   "metadata": {},
   "outputs": [
    {
     "data": {
      "image/png": "[encoded data removed]",
      "text/plain": [
       "<Figure size 432x288 with 1 Axes>"
      ]
     },
     "metadata": {
      "needs_background": "light"
     },
     "output_type": "display_data"
    }
   ],
   "source": [
    "plt.scatter(x,y,color = 'r')\n",
    "plt.show()"
   ]
  },
  {
   "cell_type": "code",
   "execution_count": 5,
   "id": "ec96d88c",
   "metadata": {},
   "outputs": [
    {
     "data": {
      "text/plain": [
       "(97, 1)"
      ]
     },
     "execution_count": 5,
     "metadata": {},
     "output_type": "execute_result"
    }
   ],
   "source": [
    "x1 = np.ones((97,1))\n",
    "x1.shape"
   ]
  },
  {
   "cell_type": "code",
   "execution_count": 6,
   "id": "f7e22ab4",
   "metadata": {},
   "outputs": [
    {
     "data": {
      "text/plain": [
       "(97, 2)"
      ]
     },
     "execution_count": 6,
     "metadata": {},
     "output_type": "execute_result"
    }
   ],
   "source": [
    "x = np.hstack((x1,x))\n",
    "x.shape"
   ]
  },
  {
   "cell_type": "code",
   "execution_count": 7,
   "id": "3ca5e5fd",
   "metadata": {},
   "outputs": [
    {
     "data": {
      "text/plain": [
       "(2, 2)"
      ]
     },
     "execution_count": 7,
     "metadata": {},
     "output_type": "execute_result"
    }
   ],
   "source": [
    "x2 = x.transpose()\n",
    "x3 = np.dot(x2,x)\n",
    "x3.shape"
   ]
  },
  {
   "cell_type": "code",
   "execution_count": 8,
   "id": "1fc8c9ac",
   "metadata": {},
   "outputs": [
    {
     "data": {
      "text/plain": [
       "(2, 2)"
      ]
     },
     "execution_count": 8,
     "metadata": {},
     "output_type": "execute_result"
    }
   ],
   "source": [
    "xn = np.linalg.inv(x3)\n",
    "xn.shape"
   ]
  },
  {
   "cell_type": "code",
   "execution_count": 9,
   "id": "2bad3a8e",
   "metadata": {},
   "outputs": [
    {
     "data": {
      "text/plain": [
       "(2, 97)"
      ]
     },
     "execution_count": 9,
     "metadata": {},
     "output_type": "execute_result"
    }
   ],
   "source": [
    "xn1 = np.dot(xn,x2)\n",
    "xn1.shape"
   ]
  },
  {
   "cell_type": "code",
   "execution_count": 10,
   "id": "2c7b3dce",
   "metadata": {},
   "outputs": [
    {
     "data": {
      "text/plain": [
       "(2, 1)"
      ]
     },
     "execution_count": 10,
     "metadata": {},
     "output_type": "execute_result"
    }
   ],
   "source": [
    "Q = np.dot(xn1,y)\n",
    "Q.shape"
   ]
  },
  {
   "cell_type": "code",
   "execution_count": 11,
   "id": "db202e4a",
   "metadata": {},
   "outputs": [
    {
     "name": "stdout",
     "output_type": "stream",
     "text": [
      "[1.19303364]\n",
      "[-3.89578088]\n"
     ]
    }
   ],
   "source": [
    "m = Q[1]\n",
    "c = Q[0]\n",
    "\n",
    "print(m)\n",
    "print(c)\n"
   ]
  },
  {
   "cell_type": "code",
   "execution_count": 12,
   "id": "ced256d8",
   "metadata": {},
   "outputs": [],
   "source": [
    "from tkinter import *"
   ]
  },
  {
   "cell_type": "code",
   "execution_count": 16,
   "id": "b90a0d57",
   "metadata": {},
   "outputs": [],
   "source": [
    "caed = Tk()\n",
    "caed.configure(bg = 'purple')\n",
    "caed.geometry(\"450x100\")\n",
    "caed.title(\"House Price Prediction System\")\n",
    "caed.minsize(450,100)\n",
    "caed.maxsize(800,800)\n",
    "def func():\n",
    "    profit = m* n.get() + c\n",
    "    \n",
    "    t1.delete(\"1.0\",END)\n",
    "    t1.insert(END,profit)\n",
    "    \n",
    "t2 = Label(caed,text = \"Enter Population of the City\")\n",
    "\n",
    "n = DoubleVar()\n",
    "t4 = Entry(caed,textvariable = n)\n",
    "t5 = Label(caed,text = \"Profit\")\n",
    "\n",
    "t1 = Text(caed,height = 1,width = 20)\n",
    "b = Button(caed,text = \"Press\",command = func)\n",
    "b.configure(bg = 'grey')\n",
    "\n",
    "t2.grid(row = 0,column = 0,padx=2)\n",
    "t4.grid(row = 0,column = 2,pady = 2)\n",
    "t5.grid(row = 1,column = 1,pady = 2)\n",
    "t1.grid(row = 3,column = 1,pady = 2)\n",
    "b.grid(row = 1,column = 2)\n",
    "\n",
    "\n",
    "caed.mainloop()"
   ]
  },
  {
   "cell_type": "code",
   "execution_count": null,
   "id": "349529c7",
   "metadata": {},
   "outputs": [],
   "source": []
  }
 ],
 "metadata": {
  "kernelspec": {
   "display_name": "Python 3 (ipykernel)",
   "language": "python",
   "name": "python3"
  },
  "language_info": {
   "codemirror_mode": {
    "name": "ipython",
    "version": 3
   },
   "file_extension": ".py",
   "mimetype": "text/x-python",
   "name": "python",
   "nbconvert_exporter": "python",
   "pygments_lexer": "ipython3",
   "version": "3.9.7"
  }
 },
 "nbformat": 4,
 "nbformat_minor": 5
}
